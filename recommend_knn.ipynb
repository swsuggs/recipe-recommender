{
 "cells": [
  {
   "cell_type": "code",
   "execution_count": 1,
   "metadata": {},
   "outputs": [],
   "source": [
    "import pandas as pd\n",
    "from sklearn.model_selection import train_test_split\n",
    "from sklearn.neighbors import NearestNeighbors\n"
   ]
  },
  {
   "cell_type": "markdown",
   "metadata": {},
   "source": [
    "# Recipe recommendation\n",
    "\n",
    "In my mind, a powerful approach to recommending recipes would be if I could say something like \"of all people who liked recipes A and B, 75% also liked recipe C.  You like A and B, so you should try C too.\"  This would allow the discovery of other quality recipes, not necessarily similar to one I already know, but enjoyed by people with a similar taste.  However, I can't do this when I'm the only person I have data on.\n",
    "\n",
    "Instead, I must rely on features of the recipes themselves.  Since I did not scrape ratings, time required, or other meta-data, I have only the ingredients to go off of.  So, for a first pass at recommending recipes, I'll take a given \"loved\" recipe and find the k nearest recipes to it in the database.  There are drawbacks to this approach, namely a recipe with similar ingredients will not necessarily be as good, and moreover, if it's too similar, I'd probably rather stick with the recipe I already know.  The point is to discover new foods I wouldn't find otherwise.\n",
    "\n",
    "However, the advantage of this approach is it's really easy to do.\n",
    "\n"
   ]
  },
  {
   "cell_type": "code",
   "execution_count": 6,
   "metadata": {},
   "outputs": [],
   "source": [
    "df = pd.read_csv('one_hot_data.csv')"
   ]
  },
  {
   "cell_type": "markdown",
   "metadata": {},
   "source": [
    "There's no train-test split here.  However, I do want to shuffle the data and a 100-0 split is an easy way to do that."
   ]
  },
  {
   "cell_type": "code",
   "execution_count": 7,
   "metadata": {},
   "outputs": [],
   "source": [
    "train, test = train_test_split(df, test_size=0)"
   ]
  },
  {
   "cell_type": "code",
   "execution_count": 8,
   "metadata": {},
   "outputs": [],
   "source": [
    "names = train['Recipe_name']\n",
    "data = train.drop(columns=['Recipe_name', 'Rating'])\n"
   ]
  },
  {
   "cell_type": "code",
   "execution_count": 9,
   "metadata": {},
   "outputs": [],
   "source": [
    "N=6\n",
    "nbrs = NearestNeighbors(n_neighbors=N, algorithm='ball_tree').fit(data)"
   ]
  },
  {
   "cell_type": "code",
   "execution_count": 12,
   "metadata": {},
   "outputs": [],
   "source": [
    "def recommend(recipe):\n",
    "    point = df[df['Recipe_name']==recipe ].drop(columns=['Recipe_name', 'Rating'])\n",
    "    dists, inds = nbrs.kneighbors(point)\n",
    "    for i, d in zip(inds[0][1:], dists[0][1:]): # ignore the first which is just the searched recipe\n",
    "        print('Distance {:.4f}:  {}'.format(d, names.iloc[i]))"
   ]
  },
  {
   "cell_type": "markdown",
   "metadata": {},
   "source": [
    "## TESTS\n",
    "\n",
    "Note, if this gets re-run, the data may be in a different order, which will affect the outcome of the nearest neighbors when there's a tie.  So in my comments after each test, I refer to recipes that you may or may not see in the outcome of the test.\n",
    "\n",
    "### Test 1: Mac and Cheese\n",
    "We first test by finding the five nearest recipes to mac and cheese.  I've never made this recipe, but it seems a fairly unique dish so I'm curious to see what turns up."
   ]
  },
  {
   "cell_type": "code",
   "execution_count": 13,
   "metadata": {},
   "outputs": [
    {
     "name": "stdout",
     "output_type": "stream",
     "text": [
      "Distance 1.0000:  Fettuccine Alfredo\n",
      "Distance 1.4142:  Pasta With Brown Butter Whole Lemon and Parmesan\n",
      "Distance 1.7321:  Cacio e Pepe\n",
      "Distance 1.7321:  Pasta al Limone\n",
      "Distance 2.0000:  Make-Ahead Mashed Potatoes\n"
     ]
    }
   ],
   "source": [
    "recommend('Adult Mac and Cheese')"
   ]
  },
  {
   "cell_type": "markdown",
   "metadata": {},
   "source": [
    "Most of these recipes are fairly similar to the search point, simple pastas with cream and/or cheese."
   ]
  },
  {
   "cell_type": "markdown",
   "metadata": {},
   "source": [
    "### Test 2: Coconut corn and grains\n",
    "Coconut-Creamed Corn and Grains is another very unique dish.\n",
    "I actually really liked this one when we made it."
   ]
  },
  {
   "cell_type": "code",
   "execution_count": 14,
   "metadata": {},
   "outputs": [
    {
     "name": "stdout",
     "output_type": "stream",
     "text": [
      "Distance 3.4641:  Orange Fish in Parchment\n",
      "Distance 3.4641:  Aromatic Wilted Greens with Coconut Milk\n",
      "Distance 3.4641:  Vegan Creamed Spinach\n",
      "Distance 3.4641:  Vegan Butternut Squash Soup\n",
      "Distance 3.6056:  Coconut Rice Noodles with Ginger and Turmeric\n"
     ]
    }
   ],
   "source": [
    "recommend('Coconut-Creamed Corn and Grains')"
   ]
  },
  {
   "cell_type": "markdown",
   "metadata": {},
   "source": [
    "Looks like nothing is really nearby this recipe.  \n",
    "\n",
    "A result of this simple method is that two recipes will be deemed similar if, as in this example, they both have ginger, coconut, cilantro, and garlic; while one is a squash-based soup and the other is a grain-based curry type thing.  This is a drawback if I truly want similar recipes; but maybe it's a plus if I want to find new recipes with flavors I know I like.\n",
    "\n",
    "\n",
    "The fried brown rice looks more similar to the candidate recipe, and actually looks really good, maybe I'll make that one."
   ]
  },
  {
   "cell_type": "markdown",
   "metadata": {},
   "source": [
    "### Test 3: Cauliflower Bolognese\n",
    "\n",
    "I love cauliflower and I love pasta and I love this recipe.  Let's see what's nearby."
   ]
  },
  {
   "cell_type": "code",
   "execution_count": 15,
   "metadata": {},
   "outputs": [
    {
     "name": "stdout",
     "output_type": "stream",
     "text": [
      "Distance 2.6458:  Brothy Pasta with Chickpeas\n",
      "Distance 3.0000:  Cauliflower Steaks with Olive Relish and Tomato Sauce\n",
      "Distance 3.0000:  Red Pesto Pasta\n",
      "Distance 3.0000:  Pasta al Pomodoro\n",
      "Distance 3.0000:  Bucatini with Butter-Roasted Tomato Sauce\n"
     ]
    }
   ],
   "source": [
    "recommend('Cauliflower Bolognese')"
   ]
  },
  {
   "cell_type": "markdown",
   "metadata": {},
   "source": [
    "The first result (Brothy Pasta with Chickpeas) is a recipe I have made several times, I like it a lot.  Seafood seems like a good leap away from the query recipe."
   ]
  },
  {
   "cell_type": "code",
   "execution_count": null,
   "metadata": {},
   "outputs": [],
   "source": []
  },
  {
   "cell_type": "code",
   "execution_count": 16,
   "metadata": {},
   "outputs": [
    {
     "name": "stdout",
     "output_type": "stream",
     "text": [
      "Distance 2.4495:  Pork Volcánes al Pastor\n",
      "Distance 2.8284:  Tacos al Pastor\n",
      "Distance 3.1623:  Orange Fish in Parchment\n",
      "Distance 3.1623:  Citrus-Marinated Chicken Thighs\n",
      "Distance 3.1623:  Grilled Fish Tacos\n"
     ]
    }
   ],
   "source": [
    "recommend('Fish Tacos al Pastor')"
   ]
  },
  {
   "cell_type": "code",
   "execution_count": 17,
   "metadata": {},
   "outputs": [
    {
     "name": "stdout",
     "output_type": "stream",
     "text": [
      "Distance 3.3166:  Vegan Coconut Lentil Soup\n",
      "Distance 3.4641:  Chicken Tikka Masala\n",
      "Distance 3.6056:  Spiced Chicken with Chickpeas and Spinach\n",
      "Distance 3.6056:  Coconut-Curry Braised Chicken Thighs\n",
      "Distance 3.6056:  Slow-Cooker Indian Spiced Chicken with Tomato and Cream\n"
     ]
    }
   ],
   "source": [
    "recommend('Digaag Qumbe (Yogurt-Coconut Chicken)')"
   ]
  },
  {
   "cell_type": "code",
   "execution_count": 18,
   "metadata": {},
   "outputs": [
    {
     "name": "stdout",
     "output_type": "stream",
     "text": [
      "Distance 2.4495:  Grilled Chanterelle Mushrooms with Parsley and Lemon\n",
      "Distance 2.6458:  Creamy Pasta with Crispy Mushrooms\n",
      "Distance 2.8284:  No-Fail Roast Chicken with Lemon and Garlic\n",
      "Distance 2.8284:  Garlic Broth\n",
      "Distance 2.8284:  Chicken Under a Skillet with Lemon Pan Sauce\n"
     ]
    }
   ],
   "source": [
    "recommend('Herby Barley Salad with Butter-Basted Mushrooms')"
   ]
  },
  {
   "cell_type": "code",
   "execution_count": null,
   "metadata": {},
   "outputs": [],
   "source": []
  }
 ],
 "metadata": {
  "kernelspec": {
   "display_name": "Python 3",
   "language": "python",
   "name": "python3"
  },
  "language_info": {
   "codemirror_mode": {
    "name": "ipython",
    "version": 3
   },
   "file_extension": ".py",
   "mimetype": "text/x-python",
   "name": "python",
   "nbconvert_exporter": "python",
   "pygments_lexer": "ipython3",
   "version": "3.7.1"
  }
 },
 "nbformat": 4,
 "nbformat_minor": 2
}
