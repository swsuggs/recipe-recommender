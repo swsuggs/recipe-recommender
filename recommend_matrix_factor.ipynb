{
 "cells": [
  {
   "cell_type": "code",
   "execution_count": 1,
   "metadata": {},
   "outputs": [],
   "source": [
    "import numpy as np\n",
    "import pandas as pd"
   ]
  },
  {
   "cell_type": "markdown",
   "metadata": {},
   "source": [
    "# Recipe Recommendation: matrix factorization\n",
    "\n",
    "\n",
    "In this notebook, I improve my naive nearest-neighbor recommendation system with something a little smarter.  The matrix factorization approach assumes that there's some hidden features for both users and recipes.  The product of a user's feature vector with a recipe's feature vector should predict how well the user will like that recipe.\n",
    "\n",
    "\n",
    "Normally, the features for both users and items are learned by gradient descent.  Unfortunately, in my case, I'm the only user, which makes it impossible to learn features for recipes, as I haven't even tried most of them.  But I can use the ingredients as recipe features and learn user features for myself.\n",
    "\n",
    "\n",
    "We'll start by writing a quick function that will predict a recipe's rating, once we have the user features."
   ]
  },
  {
   "cell_type": "code",
   "execution_count": 131,
   "metadata": {},
   "outputs": [],
   "source": [
    "df = pd.read_csv('one_hot_data.csv')"
   ]
  },
  {
   "cell_type": "code",
   "execution_count": 132,
   "metadata": {},
   "outputs": [],
   "source": [
    "rated = df.dropna()\n",
    "unrated = df.drop(rated.index)\n",
    "\n",
    "def rate_recipe(name, U):\n",
    "    x = np.array(df[df.Recipe_name==name].drop(columns=['Rating', 'Recipe_name']))\n",
    "    return x.dot(U.T)[0][0]"
   ]
  },
  {
   "cell_type": "markdown",
   "metadata": {},
   "source": [
    "I tried using scipy's NMF module first, but it learns both user and item features; you can't provide one of them and only learn the other.  So I'll have to write my own function.  It's a heck of a lot slower, but it seems to work."
   ]
  },
  {
   "cell_type": "code",
   "execution_count": 81,
   "metadata": {},
   "outputs": [],
   "source": [
    "def decompose(R, U, I, nsteps=5000, alpha=.0002, beta=.02, epsilon=.001): \n",
    "        # I use R for Ratings (what we compute), \n",
    "        #       U for User features (what to learn), \n",
    "        #       I for item features (given, in my case)\n",
    "        \n",
    "        N, M = R.shape # 1 x 58\n",
    "        #        U is    1 x 282\n",
    "        #        I is    282 x 58\n",
    "        \n",
    "        K = U.shape[1] # latent space size\n",
    "        \n",
    "        for z in range(nsteps):\n",
    "            for i in range(N):\n",
    "                for j in range(M):\n",
    "                    e_ij = R[i,j] - U[i,:].dot(I[:,j])  # the error\n",
    "                    for k in range(K):\n",
    "                        U[i,k] += alpha * (2 * e_ij * I[k,j] - beta * U[i,k] ) # step down the gradient\n",
    "                        \n",
    "            # compute loss\n",
    "            mse = (R - U.dot(I)).mean(axis=None) ** 2\n",
    "            reg = .5 * beta * np.linalg.norm(U, 2)\n",
    "            loss = mse + reg\n",
    "            if loss < epsilon:\n",
    "                break\n",
    "        return U\n",
    "    "
   ]
  },
  {
   "cell_type": "code",
   "execution_count": 82,
   "metadata": {},
   "outputs": [],
   "source": [
    "I = np.array(rated.drop(columns=['Rating','Recipe_name'])).T\n",
    "U_init = np.random.rand(1,282)\n",
    "R = np.array(rated.Rating).reshape(1,-1)"
   ]
  },
  {
   "cell_type": "code",
   "execution_count": 83,
   "metadata": {},
   "outputs": [],
   "source": [
    "U = decompose(R, U_init, I)"
   ]
  },
  {
   "cell_type": "markdown",
   "metadata": {},
   "source": [
    "Now that we have the user feature vector U, we can first check that it reproduces the rated recipes accurately.  In the next cell we print actual and predicted ratings for 15 rated recipes.  Most of them are within 0.2 or so of the true value.  This gives a little confidence that a new prediction might be accurate as well."
   ]
  },
  {
   "cell_type": "code",
   "execution_count": 121,
   "metadata": {},
   "outputs": [
    {
     "name": "stdout",
     "output_type": "stream",
     "text": [
      "Farmers Market Farro Bowls: Rated 5.0, predicted rating 5.03\n",
      "Vegetarian Taco Bowls: Rated 4.0, predicted rating 4.04\n",
      "Smoked Fish and Rice Breakfast Bowl: Rated 4.0, predicted rating 3.99\n",
      "Mojo Meatballs: Rated 4.0, predicted rating 4.04\n",
      "Shepherd's Pie: Rated 4.0, predicted rating 4.01\n",
      "Root Vegetable Gratin: Rated 5.0, predicted rating 4.80\n",
      "Cauliflower Tacos With Cashew Crema: Rated 5.0, predicted rating 4.91\n",
      "Cauliflower Bolognese: Rated 5.0, predicted rating 5.24\n",
      "Kung Pao Cauliflower: Rated 4.0, predicted rating 4.06\n",
      "Roasted Cauliflower: Rated 5.0, predicted rating 4.37\n",
      "Crispy-Skin Salmon with Miso-Honey Sauce: Rated 4.0, predicted rating 3.92\n",
      "Ramen Noodles with Miso Pesto: Rated 4.0, predicted rating 3.63\n",
      "Make-Ahead Broccoli and Quinoa Salad: Rated 5.0, predicted rating 5.04\n",
      "Vegetarian Meatballs with Soy-Honey Glaze: Rated 2.0, predicted rating 2.13\n",
      "Sesame Noodles with Crispy Tofu: Rated 4.0, predicted rating 3.92\n"
     ]
    }
   ],
   "source": [
    "for r in rated.Recipe_name[:15]:\n",
    "    print('{}: Rated {}, predicted rating {:.2f}'.format(r, \n",
    "                                    rated[rated.Recipe_name==r].Rating.values[0], rate_recipe(r, U)))"
   ]
  },
  {
   "cell_type": "markdown",
   "metadata": {},
   "source": [
    "Now let's predict ratings for some unrated recipes, and look at some of the highest and lowest ones.  A proper evaluation requires that I make the recipes, but that will take a while."
   ]
  },
  {
   "cell_type": "code",
   "execution_count": 122,
   "metadata": {},
   "outputs": [],
   "source": [
    "which = np.random.randint(0, unrated.shape[0], 20) # choose some random recipes"
   ]
  },
  {
   "cell_type": "code",
   "execution_count": 123,
   "metadata": {
    "scrolled": true
   },
   "outputs": [
    {
     "name": "stdout",
     "output_type": "stream",
     "text": [
      "Aromatic Pork and Noodle Soup: predicted rating 3.672084291951153\n",
      "Brown Butter Apple Tart: predicted rating 3.7262293851143298\n",
      "Smoked Salmon with Asparagus Toasts: predicted rating 2.1286361616123592\n",
      "Pupusas: predicted rating 3.6030874550667926\n",
      "Crunchy Baked Saffron Rice with Barberries (Tachin): predicted rating 3.317922772503179\n",
      "Rice Salad with Fava Beans and Pistachios: predicted rating 3.528258154843909\n",
      "Green Shakshuka: predicted rating 4.160252198407605\n",
      "Marinated Mixed Beans: predicted rating 3.884124483675059\n",
      "Sweet and Spicy Antipasto Salad: predicted rating 4.363642377738933\n",
      "Roasted Squash and Grains with Tahini-Honey: predicted rating 4.8512325940521785\n",
      "Anything Goes Donabe: predicted rating 0.46564863079061514\n",
      "Ramen Noodle Bowl with Escarole and Spicy Tofu Crumbles: predicted rating 3.2083541921750993\n",
      "Roasted Cauliflower Larb: predicted rating 4.107674950154039\n",
      "Grilled Fennel-Rubbed Triple-Cut Pork Chops: predicted rating 3.4441314408890733\n",
      "Turnip and Kale Gratin: predicted rating 5.427094543538503\n",
      "Crispy Chicken Breasts with Chermoula and Escarole: predicted rating 3.522321493523462\n",
      "Charred Green Beans with Spicy Tonnato: predicted rating 3.6136560244387685\n",
      "Cherry Tomato Vinaigrette: predicted rating 3.4608505391950706\n",
      "Broccoli and Egg Fried Rice: predicted rating 3.6077370048776567\n",
      "Miso-Cured Black Cod with Chilled Cucumbers: predicted rating 2.7987932280228125\n"
     ]
    }
   ],
   "source": [
    "for i in which:\n",
    "    rating = rate_recipe(df.iloc[i].Recipe_name, U)\n",
    "    print('{}: predicted rating {}'.format(df.iloc[i].Recipe_name, rating) )"
   ]
  },
  {
   "cell_type": "markdown",
   "metadata": {},
   "source": [
    "Looks like it predicts pretty safe values around 3.5 for most things.  "
   ]
  },
  {
   "cell_type": "markdown",
   "metadata": {},
   "source": [
    "I'll create a function to find highly or poorly rated recipes.\n"
   ]
  },
  {
   "cell_type": "code",
   "execution_count": 125,
   "metadata": {},
   "outputs": [],
   "source": [
    "def recommend(n=5, neg=False):\n",
    "    # Recommend five recipes\n",
    "    names = []\n",
    "    while len(names) < n:\n",
    "        i = np.random.randint(0, unrated.shape[0])\n",
    "        name = df.iloc[i].Recipe_name\n",
    "        if name in names: continue\n",
    "        r = rate_recipe(df.iloc[i].Recipe_name, U)\n",
    "        if neg:\n",
    "            if r < 2: names.append(name)\n",
    "        else:\n",
    "            if r > 4.9: names.append(name)\n",
    "            \n",
    "    return names"
   ]
  },
  {
   "cell_type": "markdown",
   "metadata": {},
   "source": [
    "Let's recommend a few recipes!"
   ]
  },
  {
   "cell_type": "code",
   "execution_count": 127,
   "metadata": {},
   "outputs": [
    {
     "data": {
      "text/plain": [
       "['Chilaquiles with Fried Eggs',\n",
       " 'Party-Ready Italian Heros',\n",
       " 'Steak Salad with Horseradish Dressing',\n",
       " 'Tofu Sloppy Joes',\n",
       " 'Smoked Salmon Smørrebrød']"
      ]
     },
     "execution_count": 127,
     "metadata": {},
     "output_type": "execute_result"
    }
   ],
   "source": [
    "recommend()"
   ]
  },
  {
   "cell_type": "markdown",
   "metadata": {},
   "source": [
    "And let's see what the model thinks I won't like:"
   ]
  },
  {
   "cell_type": "code",
   "execution_count": 128,
   "metadata": {},
   "outputs": [
    {
     "data": {
      "text/plain": [
       "['Antipasti Hand Salad',\n",
       " 'Potluck Chopped Salad',\n",
       " \"BA's Best Bolognese\",\n",
       " 'Bo Zai Fan (Chinese Chicken and Mushroom Clay Pot Rice)',\n",
       " 'Chicken Khao Soi']"
      ]
     },
     "execution_count": 128,
     "metadata": {},
     "output_type": "execute_result"
    }
   ],
   "source": [
    "recommend(neg=True)"
   ]
  },
  {
   "cell_type": "markdown",
   "metadata": {},
   "source": [
    "I have to say the recommendations look pretty good . . . as do most of the negatives.\n",
    "\n",
    "I guess I'll just have to make more food to get more data!"
   ]
  },
  {
   "cell_type": "code",
   "execution_count": null,
   "metadata": {},
   "outputs": [],
   "source": []
  },
  {
   "cell_type": "code",
   "execution_count": null,
   "metadata": {},
   "outputs": [],
   "source": []
  },
  {
   "cell_type": "code",
   "execution_count": 133,
   "metadata": {},
   "outputs": [
    {
     "data": {
      "text/plain": [
       "['Spicy Cabbage Salad with Turkey and Peanuts',\n",
       " 'Spring Chicken Salad with Smashed Green Beans',\n",
       " 'Chicken Stew with Cannellini Beans and Dried Cherries',\n",
       " 'Eggplant and Country Ham Ragù',\n",
       " 'Soba with Tofu and Miso-Mustard Dressing']"
      ]
     },
     "execution_count": 133,
     "metadata": {},
     "output_type": "execute_result"
    }
   ],
   "source": [
    "recommend()"
   ]
  },
  {
   "cell_type": "code",
   "execution_count": null,
   "metadata": {},
   "outputs": [],
   "source": []
  }
 ],
 "metadata": {
  "kernelspec": {
   "display_name": "Python 3",
   "language": "python",
   "name": "python3"
  },
  "language_info": {
   "codemirror_mode": {
    "name": "ipython",
    "version": 3
   },
   "file_extension": ".py",
   "mimetype": "text/x-python",
   "name": "python",
   "nbconvert_exporter": "python",
   "pygments_lexer": "ipython3",
   "version": "3.7.1"
  }
 },
 "nbformat": 4,
 "nbformat_minor": 2
}
